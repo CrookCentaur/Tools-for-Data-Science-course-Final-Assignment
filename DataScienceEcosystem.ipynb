{
 "cells": [
  {
   "cell_type": "markdown",
   "id": "401c1775-4f83-4000-9bf0-4af979da1f32",
   "metadata": {},
   "source": [
    "# Data Science Tools and Ecosystem"
   ]
  },
  {
   "cell_type": "markdown",
   "id": "12a35a99-8fe8-4418-a2d3-f5eec0b30095",
   "metadata": {},
   "source": [
    "In this notebook, Data Science Tools and Ecosystem are summarized."
   ]
  },
  {
   "cell_type": "markdown",
   "id": "146fca4e-dcd6-4db6-8e9d-d8a79b55a769",
   "metadata": {},
   "source": [
    "**Objectives:**\n",
    "- Popular Languages used by Data Scientists\n",
    "- Commonly Used libraries by Data Scientists\n",
    "- Data Science Tools\n",
    "- Simple arithmetic expression\n",
    "- Converting minutes into hours using Python"
   ]
  },
  {
   "cell_type": "markdown",
   "id": "d8d5c312-ccc9-49a4-ba96-f6b92189eeea",
   "metadata": {},
   "source": [
    "Some of the popular languages that Data Scientists use are:\n",
    "1. Python\n",
    "2. R programming language\n",
    "3. SQL (Structured Query Language)"
   ]
  },
  {
   "cell_type": "markdown",
   "id": "aa9d5805-ccaa-4745-a718-6f52a25cbc19",
   "metadata": {},
   "source": [
    "Some of the commonly used libraries used by Data Scientists include:\n",
    "1. ggplot2\n",
    "2. Pandas\n",
    "3. NumPy\n",
    "4. Seaborne"
   ]
  },
  {
   "cell_type": "markdown",
   "id": "53626fc5-2559-4244-8f25-ed1c79d58915",
   "metadata": {},
   "source": [
    "|Data Science Tools|\n",
    "|------------------|\n",
    "|GitHub|\n",
    "|R Studio|\n",
    "|Jupyter Notebooks|"
   ]
  },
  {
   "cell_type": "markdown",
   "id": "b8ed168d-aad5-4244-914c-961a0f4296c3",
   "metadata": {},
   "source": [
    "### Below are a few examples of evaluating arithmetic expressions in Python"
   ]
  },
  {
   "cell_type": "code",
   "execution_count": 13,
   "id": "ab1cf449-b7b1-4153-aa67-e79030dd6215",
   "metadata": {},
   "outputs": [
    {
     "data": {
      "text/plain": [
       "17"
      ]
     },
     "execution_count": 13,
     "metadata": {},
     "output_type": "execute_result"
    }
   ],
   "source": [
    "#This is a simple arithmetic expression to multiply then add integers\n",
    "(3*4)+5"
   ]
  },
  {
   "cell_type": "code",
   "execution_count": 17,
   "id": "19ba6d87-f50a-4fb7-9002-74fa867270a6",
   "metadata": {},
   "outputs": [
    {
     "name": "stdin",
     "output_type": "stream",
     "text": [
      "Enter minutes 200\n"
     ]
    },
    {
     "data": {
      "text/plain": [
       "3.3333333333333335"
      ]
     },
     "execution_count": 17,
     "metadata": {},
     "output_type": "execute_result"
    }
   ],
   "source": [
    "# This will convert 200 minutes to hours by diving by 60\n",
    "minutes = int(input(\"Enter minutes\"))\n",
    "hours = minutes / 60\n",
    "hours"
   ]
  },
  {
   "cell_type": "markdown",
   "id": "9e943529-04bc-4e06-ad88-886524d72cf0",
   "metadata": {},
   "source": [
    "## Author\n",
    "Soham Mulye"
   ]
  }
 ],
 "metadata": {
  "kernelspec": {
   "display_name": "Python 3 (ipykernel)",
   "language": "python",
   "name": "python3"
  },
  "language_info": {
   "codemirror_mode": {
    "name": "ipython",
    "version": 3
   },
   "file_extension": ".py",
   "mimetype": "text/x-python",
   "name": "python",
   "nbconvert_exporter": "python",
   "pygments_lexer": "ipython3",
   "version": "3.11.7"
  }
 },
 "nbformat": 4,
 "nbformat_minor": 5
}
